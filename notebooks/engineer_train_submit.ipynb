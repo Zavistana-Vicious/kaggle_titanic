{
 "cells": [
  {
   "cell_type": "code",
   "execution_count": 89,
   "metadata": {},
   "outputs": [],
   "source": [
    "import math\n",
    "\n",
    "import pandas as pd\n",
    "import numpy as np\n",
    "import matplotlib.pyplot as plt\n",
    "from sklearn.preprocessing import StandardScaler, MinMaxScaler, PowerTransformer, RobustScaler\n",
    "from sklearn.linear_model import LogisticRegression\n",
    "\n",
    "df_train = pd.read_csv('D:\\\\Projects\\\\kaggle_titanic\\\\data\\\\train.csv')\n",
    "df_test = pd.read_csv('D:\\\\Projects\\\\kaggle_titanic\\\\data\\\\test.csv')\n",
    "data = [df_train, df_test]"
   ]
  },
  {
   "cell_type": "code",
   "execution_count": 90,
   "metadata": {},
   "outputs": [],
   "source": [
    "# Data Preprocessing\n",
    "# Fill blanks for Age, Fare, Embarked\n",
    "median_age = df_train.Age.median()\n",
    "median_fare = df_train.Fare.median()\n",
    "mode_embarked = df_train['Embarked'].mode()\n",
    "for d in data:\n",
    "    d.Age = d.Age.fillna(median_age)\n",
    "    d.Fare = d.Fare.fillna(median_fare)\n",
    "    d.Embarked = d.Embarked.fillna(mode_embarked)\n",
    "      "
   ]
  },
  {
   "cell_type": "code",
   "execution_count": 91,
   "metadata": {},
   "outputs": [],
   "source": [
    "# Feature Engineering\n",
    "#   Standard Scale Age and Fare\n",
    "age_scaler = PowerTransformer()\n",
    "age_data = np.array(data[0].Age).reshape(-1, 1)\n",
    "age_scaler.fit(age_data)\n",
    "data[0].Age = age_scaler.transform(np.array(data[0].Age).reshape(-1, 1))\n",
    "data[1].Age = age_scaler.transform(np.array(data[1].Age).reshape(-1, 1))\n",
    "\n",
    "fare_scaler = StandardScaler()\n",
    "fare_data = np.array(data[0].Fare).reshape(-1, 1)\n",
    "fare_scaler.fit(fare_data)\n",
    "data[0].Fare = fare_scaler.transform(np.array(data[0].Fare).reshape(-1, 1))\n",
    "data[1].Fare = fare_scaler.transform(np.array(data[1].Fare).reshape(-1, 1))\n",
    "\n",
    "#   Onehot Sex, Class, Embarked\n",
    "cat_col = ['Sex', 'Pclass', 'Embarked']\n",
    "for d in [0, 1]:\n",
    "    for col in cat_col:\n",
    "        temp_d = pd.get_dummies(data[d][col])\n",
    "        data[d] = pd.merge(left = data[d], right = temp_d, left_index=True, right_index=True)\n",
    "        data[d] = data[d].drop(columns=col)"
   ]
  },
  {
   "cell_type": "code",
   "execution_count": 92,
   "metadata": {},
   "outputs": [
    {
     "name": "stdout",
     "output_type": "stream",
     "text": [
      "0.8092031425364759\n"
     ]
    }
   ],
   "source": [
    "use_cols = ['Parch', 'SibSp','Fare', 'Age', 'female', 'male', 1, 2, 3, 'C', 'Q', 'S']\n",
    "x_train = data[0][use_cols]\n",
    "y_train = data[0]['Survived']\n",
    "x_test = data[1][use_cols]\n",
    "\n",
    "model = LogisticRegression()\n",
    "model.fit(x_train.values, y_train.values)\n",
    "print(model.score(x_train.values, y_train.values))\n",
    "y_test_results = model.predict(x_test.values)"
   ]
  }
 ],
 "metadata": {
  "interpreter": {
   "hash": "43ecdd896cbf7ecf447ad6b411ef48744a06d0a589e8021a89cf93cc5eb77b99"
  },
  "kernelspec": {
   "display_name": "Python 3.9.12 ('kaggle_env')",
   "language": "python",
   "name": "python3"
  },
  "language_info": {
   "codemirror_mode": {
    "name": "ipython",
    "version": 3
   },
   "file_extension": ".py",
   "mimetype": "text/x-python",
   "name": "python",
   "nbconvert_exporter": "python",
   "pygments_lexer": "ipython3",
   "version": "3.9.12"
  },
  "orig_nbformat": 4
 },
 "nbformat": 4,
 "nbformat_minor": 2
}
