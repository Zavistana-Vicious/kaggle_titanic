{
 "cells": [
  {
   "cell_type": "code",
   "execution_count": 141,
   "metadata": {},
   "outputs": [],
   "source": [
    "import math\n",
    "\n",
    "import pandas as pd\n",
    "import numpy as np\n",
    "import matplotlib.pyplot as plt\n",
    "\n",
    "df = pd.read_csv('D:\\\\Projects\\\\kaggle_titanic\\\\data\\\\train.csv')\n",
    "\n",
    "# No Summary for Names or Cabin Number"
   ]
  },
  {
   "cell_type": "code",
   "execution_count": 142,
   "metadata": {},
   "outputs": [
    {
     "data": {
      "text/html": [
       "<div>\n",
       "<style scoped>\n",
       "    .dataframe tbody tr th:only-of-type {\n",
       "        vertical-align: middle;\n",
       "    }\n",
       "\n",
       "    .dataframe tbody tr th {\n",
       "        vertical-align: top;\n",
       "    }\n",
       "\n",
       "    .dataframe thead th {\n",
       "        text-align: right;\n",
       "    }\n",
       "</style>\n",
       "<table border=\"1\" class=\"dataframe\">\n",
       "  <thead>\n",
       "    <tr style=\"text-align: right;\">\n",
       "      <th></th>\n",
       "      <th>PassengerId</th>\n",
       "      <th>Survived</th>\n",
       "      <th>Pclass</th>\n",
       "      <th>Age</th>\n",
       "      <th>SibSp</th>\n",
       "      <th>Parch</th>\n",
       "      <th>Fare</th>\n",
       "    </tr>\n",
       "  </thead>\n",
       "  <tbody>\n",
       "    <tr>\n",
       "      <th>count</th>\n",
       "      <td>891.000000</td>\n",
       "      <td>891.000000</td>\n",
       "      <td>891.000000</td>\n",
       "      <td>714.000000</td>\n",
       "      <td>891.000000</td>\n",
       "      <td>891.000000</td>\n",
       "      <td>891.000000</td>\n",
       "    </tr>\n",
       "    <tr>\n",
       "      <th>mean</th>\n",
       "      <td>446.000000</td>\n",
       "      <td>0.383838</td>\n",
       "      <td>2.308642</td>\n",
       "      <td>29.699118</td>\n",
       "      <td>0.523008</td>\n",
       "      <td>0.381594</td>\n",
       "      <td>32.204208</td>\n",
       "    </tr>\n",
       "    <tr>\n",
       "      <th>std</th>\n",
       "      <td>257.353842</td>\n",
       "      <td>0.486592</td>\n",
       "      <td>0.836071</td>\n",
       "      <td>14.526497</td>\n",
       "      <td>1.102743</td>\n",
       "      <td>0.806057</td>\n",
       "      <td>49.693429</td>\n",
       "    </tr>\n",
       "    <tr>\n",
       "      <th>min</th>\n",
       "      <td>1.000000</td>\n",
       "      <td>0.000000</td>\n",
       "      <td>1.000000</td>\n",
       "      <td>0.420000</td>\n",
       "      <td>0.000000</td>\n",
       "      <td>0.000000</td>\n",
       "      <td>0.000000</td>\n",
       "    </tr>\n",
       "    <tr>\n",
       "      <th>25%</th>\n",
       "      <td>223.500000</td>\n",
       "      <td>0.000000</td>\n",
       "      <td>2.000000</td>\n",
       "      <td>20.125000</td>\n",
       "      <td>0.000000</td>\n",
       "      <td>0.000000</td>\n",
       "      <td>7.910400</td>\n",
       "    </tr>\n",
       "    <tr>\n",
       "      <th>50%</th>\n",
       "      <td>446.000000</td>\n",
       "      <td>0.000000</td>\n",
       "      <td>3.000000</td>\n",
       "      <td>28.000000</td>\n",
       "      <td>0.000000</td>\n",
       "      <td>0.000000</td>\n",
       "      <td>14.454200</td>\n",
       "    </tr>\n",
       "    <tr>\n",
       "      <th>75%</th>\n",
       "      <td>668.500000</td>\n",
       "      <td>1.000000</td>\n",
       "      <td>3.000000</td>\n",
       "      <td>38.000000</td>\n",
       "      <td>1.000000</td>\n",
       "      <td>0.000000</td>\n",
       "      <td>31.000000</td>\n",
       "    </tr>\n",
       "    <tr>\n",
       "      <th>max</th>\n",
       "      <td>891.000000</td>\n",
       "      <td>1.000000</td>\n",
       "      <td>3.000000</td>\n",
       "      <td>80.000000</td>\n",
       "      <td>8.000000</td>\n",
       "      <td>6.000000</td>\n",
       "      <td>512.329200</td>\n",
       "    </tr>\n",
       "  </tbody>\n",
       "</table>\n",
       "</div>"
      ],
      "text/plain": [
       "       PassengerId    Survived      Pclass         Age       SibSp  \\\n",
       "count   891.000000  891.000000  891.000000  714.000000  891.000000   \n",
       "mean    446.000000    0.383838    2.308642   29.699118    0.523008   \n",
       "std     257.353842    0.486592    0.836071   14.526497    1.102743   \n",
       "min       1.000000    0.000000    1.000000    0.420000    0.000000   \n",
       "25%     223.500000    0.000000    2.000000   20.125000    0.000000   \n",
       "50%     446.000000    0.000000    3.000000   28.000000    0.000000   \n",
       "75%     668.500000    1.000000    3.000000   38.000000    1.000000   \n",
       "max     891.000000    1.000000    3.000000   80.000000    8.000000   \n",
       "\n",
       "            Parch        Fare  \n",
       "count  891.000000  891.000000  \n",
       "mean     0.381594   32.204208  \n",
       "std      0.806057   49.693429  \n",
       "min      0.000000    0.000000  \n",
       "25%      0.000000    7.910400  \n",
       "50%      0.000000   14.454200  \n",
       "75%      0.000000   31.000000  \n",
       "max      6.000000  512.329200  "
      ]
     },
     "execution_count": 142,
     "metadata": {},
     "output_type": "execute_result"
    }
   ],
   "source": [
    "# Summary\n",
    "df.describe()"
   ]
  },
  {
   "cell_type": "code",
   "execution_count": 143,
   "metadata": {},
   "outputs": [
    {
     "name": "stdout",
     "output_type": "stream",
     "text": [
      "Passenger Class 1\tCount: 216\tMean Survival: 0.630\n",
      "Passenger Class 2\tCount: 184\tMean Survival: 0.473\n",
      "Passenger Class 3\tCount: 491\tMean Survival: 0.242\n"
     ]
    }
   ],
   "source": [
    "# Passenger Class\n",
    "for pc in np.sort(df.Pclass.unique()):\n",
    "    print('Passenger Class %i\\tCount: %i\\tMean Survival: %.3f' %\n",
    "    (pc, df[df.Pclass == pc].Survived.count(), df[df.Pclass == pc].Survived.mean())) "
   ]
  },
  {
   "cell_type": "code",
   "execution_count": 144,
   "metadata": {},
   "outputs": [
    {
     "name": "stdout",
     "output_type": "stream",
     "text": [
      "Passenger Sex male\tCount: 577\tMean Survival: 0.189\n",
      "Passenger Sex female\tCount: 314\tMean Survival: 0.742\n"
     ]
    }
   ],
   "source": [
    "# Passenger Sex\n",
    "for s in df.Sex.unique():\n",
    "    print('Passenger Sex %s\\tCount: %i\\tMean Survival: %.3f' %\n",
    "    (s, df[df.Sex == s].Survived.count(), df[df.Sex == s].Survived.mean()))"
   ]
  },
  {
   "cell_type": "code",
   "execution_count": 145,
   "metadata": {},
   "outputs": [
    {
     "name": "stdout",
     "output_type": "stream",
     "text": [
      "Age Interval 0 - 5\tCount: 44\tMean Survival: 0.705\n",
      "Age Interval 5 - 10\tCount: 20\tMean Survival: 0.350\n",
      "Age Interval 10 - 15\tCount: 19\tMean Survival: 0.579\n",
      "Age Interval 15 - 20\tCount: 96\tMean Survival: 0.344\n",
      "Age Interval 20 - 25\tCount: 122\tMean Survival: 0.344\n",
      "Age Interval 25 - 30\tCount: 108\tMean Survival: 0.389\n",
      "Age Interval 30 - 35\tCount: 88\tMean Survival: 0.466\n",
      "Age Interval 35 - 40\tCount: 67\tMean Survival: 0.418\n",
      "Age Interval 40 - 45\tCount: 47\tMean Survival: 0.362\n",
      "Age Interval 45 - 50\tCount: 39\tMean Survival: 0.410\n",
      "Age Interval 50 - 55\tCount: 24\tMean Survival: 0.417\n",
      "Age Interval 55 - 60\tCount: 18\tMean Survival: 0.389\n",
      "Age Interval 60 - 65\tCount: 14\tMean Survival: 0.286\n",
      "Age Interval 65 - 70\tCount: 3\tMean Survival: 0.000\n",
      "Age Interval 70 - 75\tCount: 4\tMean Survival: 0.000\n",
      "Age Interval 75 - 80\tCount: 1\tMean Survival: 1.000\n"
     ]
    }
   ],
   "source": [
    "# Passenger Age (Intervals of 5)\n",
    "inter = 5\n",
    "intervals = list(range(5, math.ceil(df.Age.max())+1, inter))\n",
    "for age in intervals:\n",
    "    print('Age Interval %i - %i\\tCount: %i\\tMean Survival: %.3f' %\n",
    "    (age-inter, age, df[(df.Age > age-inter) & (df.Age <= age)].Survived.count(), df[(df.Age > age-inter) & (df.Age <= age)].Survived.mean()))"
   ]
  },
  {
   "cell_type": "code",
   "execution_count": 146,
   "metadata": {},
   "outputs": [
    {
     "name": "stdout",
     "output_type": "stream",
     "text": [
      "Num Siblings/Spouses 0\tCount: 608\tMean Survival: 0.345\n",
      "Num Siblings/Spouses 1\tCount: 209\tMean Survival: 0.536\n",
      "Num Siblings/Spouses 2\tCount: 28\tMean Survival: 0.464\n",
      "Num Siblings/Spouses 3\tCount: 16\tMean Survival: 0.250\n",
      "Num Siblings/Spouses 4\tCount: 18\tMean Survival: 0.167\n",
      "Num Siblings/Spouses 5\tCount: 5\tMean Survival: 0.000\n",
      "Num Siblings/Spouses 6\tCount: 0\tMean Survival: nan\n",
      "Num Siblings/Spouses 7\tCount: 0\tMean Survival: nan\n",
      "Num Siblings/Spouses 8\tCount: 7\tMean Survival: 0.000\n"
     ]
    }
   ],
   "source": [
    "# Num Siblings/Spouses\n",
    "intervals = list(range(0, int(df.SibSp.max())+1))\n",
    "for num in intervals:\n",
    "    print('Num Siblings/Spouses %i\\tCount: %i\\tMean Survival: %.3f' %\n",
    "    (num, df[df.SibSp == num].Survived.count(), df[df.SibSp == num].Survived.mean()))"
   ]
  },
  {
   "cell_type": "code",
   "execution_count": 147,
   "metadata": {},
   "outputs": [
    {
     "name": "stdout",
     "output_type": "stream",
     "text": [
      "Num Parents/Children 0\tCount: 678\tMean Survival: 0.344\n",
      "Num Parents/Children 1\tCount: 118\tMean Survival: 0.551\n",
      "Num Parents/Children 2\tCount: 80\tMean Survival: 0.500\n",
      "Num Parents/Children 3\tCount: 5\tMean Survival: 0.600\n",
      "Num Parents/Children 4\tCount: 4\tMean Survival: 0.000\n",
      "Num Parents/Children 5\tCount: 5\tMean Survival: 0.200\n",
      "Num Parents/Children 6\tCount: 1\tMean Survival: 0.000\n"
     ]
    }
   ],
   "source": [
    "# Num Parents/Children\n",
    "intervals = list(range(0, int(df.Parch.max())+1))\n",
    "for num in intervals:\n",
    "    print('Num Parents/Children %i\\tCount: %i\\tMean Survival: %.3f' %\n",
    "    (num, df[df.Parch == num].Survived.count(), df[df.Parch == num].Survived.mean()))"
   ]
  },
  {
   "cell_type": "code",
   "execution_count": 148,
   "metadata": {},
   "outputs": [
    {
     "name": "stdout",
     "output_type": "stream",
     "text": [
      "Fare Interval 0 - 10\tCount: 321\tMean Survival: 0.206\n",
      "Fare Interval 10 - 20\tCount: 179\tMean Survival: 0.425\n",
      "Fare Interval 20 - 30\tCount: 142\tMean Survival: 0.444\n",
      "Fare Interval 30 - 40\tCount: 58\tMean Survival: 0.397\n",
      "Fare Interval 40 - 50\tCount: 16\tMean Survival: 0.250\n",
      "Fare Interval 50 - 60\tCount: 38\tMean Survival: 0.711\n",
      "Fare Interval 60 - 70\tCount: 17\tMean Survival: 0.353\n",
      "Fare Interval 70 - 80\tCount: 31\tMean Survival: 0.613\n",
      "Fare Interval 80 - 90\tCount: 17\tMean Survival: 0.824\n",
      "Fare Interval 90 - 100\tCount: 4\tMean Survival: 1.000\n",
      "Fare Interval > 100\tCount: 53\tMean Survival: 0.736\n"
     ]
    }
   ],
   "source": [
    "# Fare Price\n",
    "inter = 10\n",
    "intervals = list(range(10, 100+1, inter))\n",
    "for price in intervals:\n",
    "    print('Fare Interval %i - %i\\tCount: %i\\tMean Survival: %.3f' %\n",
    "    (price-inter, price, df[(df.Fare > price-inter) & (df.Fare <= price)].Survived.count(), df[(df.Fare > price-inter) & (df.Fare <= price)].Survived.mean()))\n",
    "\n",
    "print('Fare Interval > 100\\tCount: %i\\tMean Survival: %.3f' %\n",
    "    (df[df.Fare > 100].Survived.count(), df[df.Fare > 100].Survived.mean()))"
   ]
  },
  {
   "cell_type": "code",
   "execution_count": 149,
   "metadata": {},
   "outputs": [
    {
     "name": "stdout",
     "output_type": "stream",
     "text": [
      "Passenger Embarked S\tCount: 644\tMean Survival: 0.337\n",
      "Passenger Embarked C\tCount: 168\tMean Survival: 0.554\n",
      "Passenger Embarked Q\tCount: 77\tMean Survival: 0.390\n",
      "Passenger Embarked nan\tCount: 0\tMean Survival: nan\n"
     ]
    }
   ],
   "source": [
    "# Passenger Embarked\n",
    "for e in df.Embarked.unique():\n",
    "    print('Passenger Embarked %s\\tCount: %i\\tMean Survival: %.3f' %\n",
    "    (e, df[df.Embarked == e].Survived.count(), df[df.Embarked == e].Survived.mean()))"
   ]
  }
 ],
 "metadata": {
  "interpreter": {
   "hash": "43ecdd896cbf7ecf447ad6b411ef48744a06d0a589e8021a89cf93cc5eb77b99"
  },
  "kernelspec": {
   "display_name": "Python 3.9.12 ('kaggle_env')",
   "language": "python",
   "name": "python3"
  },
  "language_info": {
   "codemirror_mode": {
    "name": "ipython",
    "version": 3
   },
   "file_extension": ".py",
   "mimetype": "text/x-python",
   "name": "python",
   "nbconvert_exporter": "python",
   "pygments_lexer": "ipython3",
   "version": "3.9.12"
  },
  "orig_nbformat": 4
 },
 "nbformat": 4,
 "nbformat_minor": 2
}
